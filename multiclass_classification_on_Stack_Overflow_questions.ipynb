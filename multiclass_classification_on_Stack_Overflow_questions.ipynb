{
  "nbformat": 4,
  "nbformat_minor": 0,
  "metadata": {
    "colab": {
      "name": "multiclass classification on Stack Overflow questions.ipynb",
      "provenance": [],
      "mount_file_id": "1TFLSfqjt3qLEFh9ZPrb-Gq69v3w-sCMj",
      "authorship_tag": "ABX9TyNIlBt1IYacwpDpo/ElWKRK",
      "include_colab_link": true
    },
    "kernelspec": {
      "name": "python3",
      "display_name": "Python 3"
    },
    "accelerator": "GPU"
  },
  "cells": [
    {
      "cell_type": "markdown",
      "metadata": {
        "id": "view-in-github",
        "colab_type": "text"
      },
      "source": [
        "<a href=\"https://colab.research.google.com/github/ankitdv98/Multiclass-classification-on-stackoverflow-data/blob/main/multiclass_classification_on_Stack_Overflow_questions.ipynb\" target=\"_parent\"><img src=\"https://colab.research.google.com/assets/colab-badge.svg\" alt=\"Open In Colab\"/></a>"
      ]
    },
    {
      "cell_type": "code",
      "metadata": {
        "colab": {
          "base_uri": "https://localhost:8080/"
        },
        "id": "SLlo-GYUl6xq",
        "outputId": "4d7268aa-0651-4afc-86f1-cb104f41e332"
      },
      "source": [
        "%cd /content/drive/MyDrive/Kaggle/Stackoverflow classification\r\n",
        "!ls"
      ],
      "execution_count": 1,
      "outputs": [
        {
          "output_type": "stream",
          "text": [
            "/content/drive/MyDrive/Kaggle/Stackoverflow classification\n",
            "stack_overflow_16k.tar.gz\n"
          ],
          "name": "stdout"
        }
      ]
    },
    {
      "cell_type": "code",
      "metadata": {
        "id": "lttVk89wnpCr"
      },
      "source": [
        "!tar -xf stack_overflow_16k.tar.gz"
      ],
      "execution_count": 2,
      "outputs": []
    },
    {
      "cell_type": "code",
      "metadata": {
        "id": "7mpmVo1BnvGg"
      },
      "source": [
        "import matplotlib.pyplot as plt\r\n",
        "import re\r\n",
        "import string\r\n",
        "import tensorflow as tf\r\n",
        "import tensorflow as tf\r\n",
        "from tensorflow.keras import layers\r\n",
        "from tensorflow.keras import losses\r\n",
        "from tensorflow.keras import preprocessing\r\n",
        "from tensorflow.keras.layers.experimental.preprocessing import TextVectorization\r\n"
      ],
      "execution_count": 3,
      "outputs": []
    },
    {
      "cell_type": "code",
      "metadata": {
        "colab": {
          "base_uri": "https://localhost:8080/"
        },
        "id": "5J45FzxVpKHB",
        "outputId": "b18d755b-98af-43b9-e190-df635bb1bb49"
      },
      "source": [
        "batch_size = 32\r\n",
        "seed = 42\r\n",
        "\r\n",
        "raw_train_ds = tf.keras.preprocessing.text_dataset_from_directory(\r\n",
        "    'train', \r\n",
        "    batch_size=batch_size, \r\n",
        "    validation_split=0.2, \r\n",
        "    subset='training', \r\n",
        "    seed=seed)\r\n"
      ],
      "execution_count": 36,
      "outputs": [
        {
          "output_type": "stream",
          "text": [
            "Found 8000 files belonging to 4 classes.\n",
            "Using 6400 files for training.\n"
          ],
          "name": "stdout"
        }
      ]
    },
    {
      "cell_type": "code",
      "metadata": {
        "id": "RRYd61YVpzoZ"
      },
      "source": [
        "for text_batch, label_batch in raw_train_ds.take(2):\r\n",
        "  for i in range(3):\r\n",
        "    print(\"Review\", text_batch.numpy()[i])\r\n",
        "    print(\"Label\", label_batch.numpy()[i])\r\n"
      ],
      "execution_count": null,
      "outputs": []
    },
    {
      "cell_type": "code",
      "metadata": {
        "colab": {
          "base_uri": "https://localhost:8080/"
        },
        "id": "Ztd2tZxNqS8H",
        "outputId": "58e42525-ba76-4587-f9ec-f1d5aeee9387"
      },
      "source": [
        "print(\"Label 0 corresponds to\", raw_train_ds.class_names[0])\r\n",
        "print(\"Label 1 corresponds to\", raw_train_ds.class_names[1])\r\n",
        "print(\"Label 0 corresponds to\", raw_train_ds.class_names[2])\r\n",
        "print(\"Label 1 corresponds to\", raw_train_ds.class_names[3])\r\n",
        "\r\n"
      ],
      "execution_count": 38,
      "outputs": [
        {
          "output_type": "stream",
          "text": [
            "Label 0 corresponds to csharp\n",
            "Label 1 corresponds to java\n",
            "Label 0 corresponds to javascript\n",
            "Label 1 corresponds to python\n"
          ],
          "name": "stdout"
        }
      ]
    },
    {
      "cell_type": "code",
      "metadata": {
        "colab": {
          "base_uri": "https://localhost:8080/"
        },
        "id": "4OCE2b_bqrMw",
        "outputId": "082ff9e5-ca0f-4cb1-aff8-ae56854b68f8"
      },
      "source": [
        "raw_val_ds = tf.keras.preprocessing.text_dataset_from_directory(\r\n",
        "    'train', \r\n",
        "    batch_size=batch_size, \r\n",
        "    validation_split=0.2, \r\n",
        "    subset='validation', \r\n",
        "    seed=seed)\r\n"
      ],
      "execution_count": 39,
      "outputs": [
        {
          "output_type": "stream",
          "text": [
            "Found 8000 files belonging to 4 classes.\n",
            "Using 1600 files for validation.\n"
          ],
          "name": "stdout"
        }
      ]
    },
    {
      "cell_type": "code",
      "metadata": {
        "colab": {
          "base_uri": "https://localhost:8080/"
        },
        "id": "cxykxRQHrGUz",
        "outputId": "64b46e21-c9af-4785-e333-d4afebd69e86"
      },
      "source": [
        "raw_test_ds = tf.keras.preprocessing.text_dataset_from_directory(\r\n",
        "    'test', \r\n",
        "    batch_size=batch_size)\r\n"
      ],
      "execution_count": 40,
      "outputs": [
        {
          "output_type": "stream",
          "text": [
            "Found 8000 files belonging to 4 classes.\n"
          ],
          "name": "stdout"
        }
      ]
    },
    {
      "cell_type": "markdown",
      "metadata": {
        "id": "xYI8k3IHrOGV"
      },
      "source": [
        "# Data Preparation"
      ]
    },
    {
      "cell_type": "code",
      "metadata": {
        "id": "Zzumv63_s0Om"
      },
      "source": [
        "max_features = 10000\r\n",
        "embedding_dim = 128\r\n",
        "sequence_length = 250\r\n",
        "\r\n",
        "vectorize_layer = TextVectorization(\r\n",
        "    max_tokens=max_features,\r\n",
        "    output_mode='int',\r\n",
        "    output_sequence_length=sequence_length)"
      ],
      "execution_count": 104,
      "outputs": []
    },
    {
      "cell_type": "code",
      "metadata": {
        "id": "MpPNrGhNs1h9"
      },
      "source": [
        "# Make a text-only dataset bringing text and label in lambda and keeping text only\r\n",
        "text_ds = raw_train_ds.map(lambda x, y: x)\r\n",
        "vectorize_layer.adapt(text_ds)"
      ],
      "execution_count": 105,
      "outputs": []
    },
    {
      "cell_type": "markdown",
      "metadata": {
        "id": "00vvos7N7dCI"
      },
      "source": [
        "#Vectorizing the data"
      ]
    },
    {
      "cell_type": "code",
      "metadata": {
        "id": "X4EKJULrs4AS"
      },
      "source": [
        "def vectorize_text(text, label):\r\n",
        "  text = tf.expand_dims(text, -1)\r\n",
        "  return vectorize_layer(text), label\r\n",
        "\r\n",
        "train_ds = raw_train_ds.map(vectorize_text)\r\n",
        "val_ds = raw_val_ds.map(vectorize_text)\r\n",
        "test_ds = raw_test_ds.map(vectorize_text)"
      ],
      "execution_count": 106,
      "outputs": []
    },
    {
      "cell_type": "code",
      "metadata": {
        "colab": {
          "base_uri": "https://localhost:8080/"
        },
        "id": "l5yCO1uFs7TG",
        "outputId": "62d2d940-2d77-4989-ccf4-7f7df2ab7b13"
      },
      "source": [
        "# retrieve a batch (of 32 reviews and labels) from the dataset\r\n",
        "text_batch, label_batch = next(iter(raw_train_ds))\r\n",
        "first_review, first_label = text_batch[4], label_batch[4]\r\n",
        "print(\"Review\", first_review)\r\n",
        "print(\"Label\", raw_train_ds.class_names[first_label])\r\n",
        "print(\"Vectorized review\", vectorize_text(first_review, first_label))\r\n"
      ],
      "execution_count": 113,
      "outputs": [
        {
          "output_type": "stream",
          "text": [
            "Review tf.Tensor(b'\"simple class in blank from math import pi..class sphere(object):..    def __init__(self,radius):.        self.radius = radius..    def get_radius(self):.        return radius..    def surfacearea(self):.        return 4*pi*radius**2..    def volume(self):.        return (4//3)*pi*radius**3..radius = input(\"\"please enter your radius:\"\")..print sphere.get_radius().print sphere.surfacearea().print sphere.volume()...i need to write the program that prompts the user for a radius then uses your sphere class to output the surface area and volume of a sphere. and i get a type error unbound method get_radius() must be called with sphere instance as first argument(got nothing instead). any way to solve this problemo?\"\\n', shape=(), dtype=string)\n",
            "Label python\n",
            "Vectorized review (<tf.Tensor: shape=(1, 250), dtype=int64, numpy=\n",
            "array([[ 241,   29,    7,   16,   31, 1107,  141,    1,    1,  163,    1,\n",
            "           1, 1061,  163,    1,   27, 1061,  163,    1,   27,    1,  163,\n",
            "           1,   27,    1, 2697,  179,  165,    1,    1,    1,    1,   78,\n",
            "           4,  174,    2,   86,   14, 2921,    2,   99,   12,    5, 1061,\n",
            "          87,  722,  165,    1,   29,    4,  126,    2, 4118,  653,    8,\n",
            "        3161,    9,    5,    1,    8,    3,   41,    5,  122,   65,    1,\n",
            "          64, 7845,  305,   33,  254,   21,    1,  259,   36,   98,    1,\n",
            "         581,  287,   76,   84,    4,  478,   13,    1,    0,    0,    0,\n",
            "           0,    0,    0,    0,    0,    0,    0,    0,    0,    0,    0,\n",
            "           0,    0,    0,    0,    0,    0,    0,    0,    0,    0,    0,\n",
            "           0,    0,    0,    0,    0,    0,    0,    0,    0,    0,    0,\n",
            "           0,    0,    0,    0,    0,    0,    0,    0,    0,    0,    0,\n",
            "           0,    0,    0,    0,    0,    0,    0,    0,    0,    0,    0,\n",
            "           0,    0,    0,    0,    0,    0,    0,    0,    0,    0,    0,\n",
            "           0,    0,    0,    0,    0,    0,    0,    0,    0,    0,    0,\n",
            "           0,    0,    0,    0,    0,    0,    0,    0,    0,    0,    0,\n",
            "           0,    0,    0,    0,    0,    0,    0,    0,    0,    0,    0,\n",
            "           0,    0,    0,    0,    0,    0,    0,    0,    0,    0,    0,\n",
            "           0,    0,    0,    0,    0,    0,    0,    0,    0,    0,    0,\n",
            "           0,    0,    0,    0,    0,    0,    0,    0,    0,    0,    0,\n",
            "           0,    0,    0,    0,    0,    0,    0,    0,    0,    0,    0,\n",
            "           0,    0,    0,    0,    0,    0,    0,    0,    0,    0,    0,\n",
            "           0,    0,    0,    0,    0,    0,    0,    0]])>, <tf.Tensor: shape=(), dtype=int32, numpy=3>)\n"
          ],
          "name": "stdout"
        }
      ]
    },
    {
      "cell_type": "code",
      "metadata": {
        "colab": {
          "base_uri": "https://localhost:8080/"
        },
        "id": "__k3B-RWs9oA",
        "outputId": "2a7cf3b0-1e65-478a-ff71-003cabd0795f"
      },
      "source": [
        "print(\"1287 ---> \",vectorize_layer.get_vocabulary()[1287])\r\n",
        "print(\" 313 ---> \",vectorize_layer.get_vocabulary()[313])\r\n",
        "print('Vocabulary size: {}'.format(len(vectorize_layer.get_vocabulary())))\r\n"
      ],
      "execution_count": 114,
      "outputs": [
        {
          "output_type": "stream",
          "text": [
            "1287 --->  scissors\n",
            " 313 --->  source\n",
            "Vocabulary size: 10000\n"
          ],
          "name": "stdout"
        }
      ]
    },
    {
      "cell_type": "code",
      "metadata": {
        "id": "v-9IkGQrwDVf"
      },
      "source": [
        "AUTOTUNE = tf.data.AUTOTUNE\r\n",
        "\r\n",
        "train_ds = train_ds.cache().prefetch(buffer_size=AUTOTUNE)\r\n",
        "val_ds = val_ds.cache().prefetch(buffer_size=AUTOTUNE)\r\n",
        "test_ds = test_ds.cache().prefetch(buffer_size=AUTOTUNE)\r\n"
      ],
      "execution_count": 115,
      "outputs": []
    },
    {
      "cell_type": "markdown",
      "metadata": {
        "id": "sVlqBlVe7kE4"
      },
      "source": [
        "# Building Model"
      ]
    },
    {
      "cell_type": "code",
      "metadata": {
        "colab": {
          "base_uri": "https://localhost:8080/"
        },
        "id": "wyRZyftrwJgn",
        "outputId": "927f6f05-ff96-4e62-f598-71609f3f159b"
      },
      "source": [
        "model = tf.keras.Sequential([\r\n",
        "  layers.Embedding(max_features + 1, embedding_dim),\r\n",
        "  layers.Dropout(0.2),\r\n",
        "  layers.GlobalAveragePooling1D(),\r\n",
        "  layers.Dropout(0.2),\r\n",
        "  layers.Dense(4)])\r\n",
        "model.summary()"
      ],
      "execution_count": 116,
      "outputs": [
        {
          "output_type": "stream",
          "text": [
            "Model: \"sequential_5\"\n",
            "_________________________________________________________________\n",
            "Layer (type)                 Output Shape              Param #   \n",
            "=================================================================\n",
            "embedding_4 (Embedding)      (None, None, 128)         1280128   \n",
            "_________________________________________________________________\n",
            "dropout_8 (Dropout)          (None, None, 128)         0         \n",
            "_________________________________________________________________\n",
            "global_average_pooling1d_4 ( (None, 128)               0         \n",
            "_________________________________________________________________\n",
            "dropout_9 (Dropout)          (None, 128)               0         \n",
            "_________________________________________________________________\n",
            "dense_4 (Dense)              (None, 4)                 516       \n",
            "=================================================================\n",
            "Total params: 1,280,644\n",
            "Trainable params: 1,280,644\n",
            "Non-trainable params: 0\n",
            "_________________________________________________________________\n"
          ],
          "name": "stdout"
        }
      ]
    },
    {
      "cell_type": "code",
      "metadata": {
        "id": "h6Bzqb8IwL3o"
      },
      "source": [
        "model.compile(\r\n",
        "    loss=losses.SparseCategoricalCrossentropy(from_logits=True), \r\n",
        "    optimizer='adam', \r\n",
        "    metrics=['accuracy'])"
      ],
      "execution_count": 117,
      "outputs": []
    },
    {
      "cell_type": "markdown",
      "metadata": {
        "id": "AwlTrUY77ooD"
      },
      "source": [
        "#Model training"
      ]
    },
    {
      "cell_type": "code",
      "metadata": {
        "colab": {
          "base_uri": "https://localhost:8080/"
        },
        "id": "DHGpcLEqwPT0",
        "outputId": "77e47839-3b2a-46c9-f06d-acce25f4cc7e"
      },
      "source": [
        "history = model.fit(\r\n",
        "    train_ds,\r\n",
        "    validation_data=val_ds,\r\n",
        "    epochs= 10)"
      ],
      "execution_count": 118,
      "outputs": [
        {
          "output_type": "stream",
          "text": [
            "Epoch 1/10\n",
            "200/200 [==============================] - 11s 51ms/step - loss: 1.3737 - accuracy: 0.3223 - val_loss: 1.3138 - val_accuracy: 0.5706\n",
            "Epoch 2/10\n",
            "200/200 [==============================] - 3s 15ms/step - loss: 1.2754 - accuracy: 0.5662 - val_loss: 1.1418 - val_accuracy: 0.6712\n",
            "Epoch 3/10\n",
            "200/200 [==============================] - 3s 14ms/step - loss: 1.0911 - accuracy: 0.6656 - val_loss: 0.9635 - val_accuracy: 0.7269\n",
            "Epoch 4/10\n",
            "200/200 [==============================] - 3s 15ms/step - loss: 0.9161 - accuracy: 0.7357 - val_loss: 0.8331 - val_accuracy: 0.7550\n",
            "Epoch 5/10\n",
            "200/200 [==============================] - 3s 14ms/step - loss: 0.7833 - accuracy: 0.7725 - val_loss: 0.7422 - val_accuracy: 0.7775\n",
            "Epoch 6/10\n",
            "200/200 [==============================] - 3s 14ms/step - loss: 0.6866 - accuracy: 0.8044 - val_loss: 0.6779 - val_accuracy: 0.7869\n",
            "Epoch 7/10\n",
            "200/200 [==============================] - 3s 15ms/step - loss: 0.6121 - accuracy: 0.8248 - val_loss: 0.6307 - val_accuracy: 0.8000\n",
            "Epoch 8/10\n",
            "200/200 [==============================] - 3s 14ms/step - loss: 0.5505 - accuracy: 0.8454 - val_loss: 0.5943 - val_accuracy: 0.8050\n",
            "Epoch 9/10\n",
            "200/200 [==============================] - 3s 14ms/step - loss: 0.5011 - accuracy: 0.8580 - val_loss: 0.5667 - val_accuracy: 0.8106\n",
            "Epoch 10/10\n",
            "200/200 [==============================] - 3s 14ms/step - loss: 0.4579 - accuracy: 0.8723 - val_loss: 0.5448 - val_accuracy: 0.8144\n"
          ],
          "name": "stdout"
        }
      ]
    },
    {
      "cell_type": "markdown",
      "metadata": {
        "id": "Cca5WSMM7tJL"
      },
      "source": [
        "#Model evaluation"
      ]
    },
    {
      "cell_type": "code",
      "metadata": {
        "colab": {
          "base_uri": "https://localhost:8080/"
        },
        "id": "6bmBjifYwR2K",
        "outputId": "d8466445-08b4-4a21-a213-8e09ca33a326"
      },
      "source": [
        "loss, accuracy = model.evaluate(test_ds)\r\n",
        "\r\n",
        "print(\"Loss: \", loss)\r\n",
        "print(\"Accuracy: \", accuracy)"
      ],
      "execution_count": 119,
      "outputs": [
        {
          "output_type": "stream",
          "text": [
            "250/250 [==============================] - 8s 31ms/step - loss: 0.5919 - accuracy: 0.7889\n",
            "Loss:  0.5918772220611572\n",
            "Accuracy:  0.7888749837875366\n"
          ],
          "name": "stdout"
        }
      ]
    },
    {
      "cell_type": "code",
      "metadata": {
        "colab": {
          "base_uri": "https://localhost:8080/"
        },
        "id": "Idf1PM-4wWHm",
        "outputId": "839afa71-fabf-44a4-be00-e7b0c965fb46"
      },
      "source": [
        "history_dict = history.history\r\n",
        "history_dict.keys()\r\n"
      ],
      "execution_count": 120,
      "outputs": [
        {
          "output_type": "execute_result",
          "data": {
            "text/plain": [
              "dict_keys(['loss', 'accuracy', 'val_loss', 'val_accuracy'])"
            ]
          },
          "metadata": {
            "tags": []
          },
          "execution_count": 120
        }
      ]
    },
    {
      "cell_type": "markdown",
      "metadata": {
        "id": "AUoW3les7z_n"
      },
      "source": [
        "#Model Visualize"
      ]
    },
    {
      "cell_type": "code",
      "metadata": {
        "colab": {
          "base_uri": "https://localhost:8080/",
          "height": 295
        },
        "id": "6D6ajam6wqZU",
        "outputId": "ed38119a-cb63-4a21-b256-b9d2a88f091c"
      },
      "source": [
        "acc = history_dict['accuracy']\r\n",
        "val_acc = history_dict['val_accuracy']\r\n",
        "loss = history_dict['loss']\r\n",
        "val_loss = history_dict['val_loss']\r\n",
        "\r\n",
        "epochs = range(1, len(acc) + 1)\r\n",
        "\r\n",
        "# \"bo\" is for \"blue dot\"\r\n",
        "plt.plot(epochs, loss, 'bo', label='Training loss')\r\n",
        "# b is for \"solid blue line\"\r\n",
        "plt.plot(epochs, val_loss, 'b', label='Validation loss')\r\n",
        "plt.title('Training and validation loss')\r\n",
        "plt.xlabel('Epochs')\r\n",
        "plt.ylabel('Loss')\r\n",
        "plt.legend()\r\n",
        "\r\n",
        "plt.show()\r\n"
      ],
      "execution_count": 121,
      "outputs": [
        {
          "output_type": "display_data",
          "data": {
            "image/png": "[encoded data removed]",
            "text/plain": [
              "<Figure size 432x288 with 1 Axes>"
            ]
          },
          "metadata": {
            "tags": [],
            "needs_background": "light"
          }
        }
      ]
    },
    {
      "cell_type": "code",
      "metadata": {
        "colab": {
          "base_uri": "https://localhost:8080/",
          "height": 295
        },
        "id": "IjToDSP1wsRy",
        "outputId": "b6d13ec5-333e-4117-e2eb-1cc21c9492d8"
      },
      "source": [
        "plt.plot(epochs, acc, 'bo', label='Training acc')\r\n",
        "plt.plot(epochs, val_acc, 'b', label='Validation acc')\r\n",
        "plt.title('Training and validation accuracy')\r\n",
        "plt.xlabel('Epochs')\r\n",
        "plt.ylabel('Accuracy')\r\n",
        "plt.legend(loc='lower right')\r\n",
        "\r\n",
        "plt.show()\r\n"
      ],
      "execution_count": 122,
      "outputs": [
        {
          "output_type": "display_data",
          "data": {
            "image/png": "[encoded data removed]",
            "text/plain": [
              "<Figure size 432x288 with 1 Axes>"
            ]
          },
          "metadata": {
            "tags": [],
            "needs_background": "light"
          }
        }
      ]
    },
    {
      "cell_type": "markdown",
      "metadata": {
        "id": "45jRYDN78DRR"
      },
      "source": [
        "# Exporting the model"
      ]
    },
    {
      "cell_type": "code",
      "metadata": {
        "colab": {
          "base_uri": "https://localhost:8080/"
        },
        "id": "wJ7JHzcewuQp",
        "outputId": "ce4aa18b-85f9-416a-b230-5ed4ec1be47c"
      },
      "source": [
        "export_model = tf.keras.Sequential([\r\n",
        "  vectorize_layer,\r\n",
        "  model,\r\n",
        "  layers.Activation('softmax')\r\n",
        "])\r\n",
        "\r\n",
        "export_model.compile(\r\n",
        "    loss=losses.SparseCategoricalCrossentropy(from_logits=False), optimizer=\"adam\", metrics=['accuracy']\r\n",
        ")\r\n",
        "\r\n",
        "# Test it with `raw_test_ds`, which yields raw strings\r\n",
        "loss, accuracy = export_model.evaluate(raw_test_ds)\r\n",
        "print(accuracy)\r\n"
      ],
      "execution_count": 123,
      "outputs": [
        {
          "output_type": "stream",
          "text": [
            "250/250 [==============================] - 9s 34ms/step - loss: 0.5881 - accuracy: 0.7884\n",
            "0.7888749837875366\n"
          ],
          "name": "stdout"
        }
      ]
    },
    {
      "cell_type": "code",
      "metadata": {
        "colab": {
          "base_uri": "https://localhost:8080/"
        },
        "id": "otFUme-y2M72",
        "outputId": "95aec16a-8d2c-4aa8-d4c7-c2cb43715da2"
      },
      "source": [
        "import numpy as np\r\n",
        "examples = [\r\n",
        "  \"i am having trouble with the datetime object in python can somebody tell how to retrieve the date from the date column?\",\r\n",
        "  \"package org.apache.commons.lang3 does not exist in jetbrains i was making a client (mod) for a game called Minecraft but when i tried doing this it just popped up and it didn't work please if ...\",\r\n",
        "  \"I can't understand why the file is not loaded with the right encoding My python script: from tensorflow.keras.models import load_model model = load_model('example_model.h5') This is my console output:... \",\r\n",
        "  \"\"\"Adding pandas dataframe to the initial db.sqlite database in django + no duplicates\r\n",
        "How can i convert and assign the fetched information (that is modified with pandas) to a predefined model + not include duplicate rows? As i understood, pandas.DataFrame.to_sql should be used, but i'm ... \"\"\",\r\n",
        "\"I'm trying to make an accordion with HTML, CSS, and Javascript. I made it but it displays text from an array in only one accordion item, and not on the other accordion divs and other buttons, who are ... \"\r\n",
        "\r\n",
        "]\r\n",
        "\r\n",
        "pred= export_model.predict(examples)\r\n",
        "for x in pred:\r\n",
        "  labl= np.argmax(x)\r\n",
        "  print(\"Label corresponds to\", raw_train_ds.class_names[labl])\r\n"
      ],
      "execution_count": 131,
      "outputs": [
        {
          "output_type": "stream",
          "text": [
            "Label corresponds to java\n",
            "Label corresponds to python\n",
            "Label corresponds to python\n",
            "Label corresponds to python\n",
            "Label corresponds to javascript\n"
          ],
          "name": "stdout"
        }
      ]
    },
    {
      "cell_type": "code",
      "metadata": {
        "id": "0HTChlBA87Jp"
      },
      "source": [
        ""
      ],
      "execution_count": null,
      "outputs": []
    }
  ]
}